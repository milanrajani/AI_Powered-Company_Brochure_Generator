{
 "cells": [
  {
   "cell_type": "markdown",
   "id": "a98030af-fcd1-4d63-a36e-38ba053498fa",
   "metadata": {},
   "source": [
    " \n",
    "Create a product that builds a Brochure for a company to be used for prospective clients, investors and potential recruits.\n",
    "\n",
    "We will be provided a company name and their primary website.\n",
    "\n",
    "See the end of this notebook for examples of real-world business applications.\n",
    "\n",
    " "
   ]
  },
  {
   "cell_type": "code",
   "execution_count": 58,
   "id": "d5b08506-dc8b-4443-9201-5f1848161363",
   "metadata": {},
   "outputs": [],
   "source": [
    "# imports\n",
    "# If these fail, please check you're running from an 'activated' environment with (llms) in the command prompt\n",
    "\n",
    "import os\n",
    "import requests\n",
    "import json\n",
    "from typing import List\n",
    "from dotenv import load_dotenv\n",
    "from bs4 import BeautifulSoup\n",
    "from IPython.display import Markdown, display, update_display\n",
    "from openai import OpenAI"
   ]
  },
  {
   "cell_type": "code",
   "execution_count": null,
   "id": "fc5d8880-f2ee-4c06-af16-ecbc0262af61",
   "metadata": {},
   "outputs": [],
   "source": [
    "# Initialize and constants\n",
    "\n",
    "load_dotenv(override=True)\n",
    "api_key = os.getenv('OPENAI_API_KEY')\n",
    "\n",
    "if api_key and api_key.startswith('sk-proj-') and len(api_key)>10:\n",
    "    print(\"API key looks good so far\") \n",
    "else:\n",
    "    print(\"There might be a problem with your API key? Please visit the troubleshooting notebook!\")\n",
    "    \n",
    "MODEL = \"llama3.2\"\n",
    "openai = OpenAI(base_url=\"http://localhost:11434/v1\", api_key=\"ollama\")"
   ]
  },
  {
   "cell_type": "code",
   "execution_count": 60,
   "id": "106dd65e-90af-4ca8-86b6-23a41840645b",
   "metadata": {},
   "outputs": [],
   "source": [
    "# A class to represent a Webpage\n",
    "\n",
    "# Some websites need you to use proper headers when fetching them:\n",
    "headers = {\n",
    " \"User-Agent\": \"Mozilla/5.0 (Windows NT 10.0; Win64; x64) AppleWebKit/537.36 (KHTML, like Gecko) Chrome/117.0.0.0 Safari/537.36\"\n",
    "}\n",
    "\n",
    "class Website:\n",
    "    \"\"\"\n",
    "    A utility class to represent a Website that we have scraped, now with links\n",
    "    \"\"\"\n",
    "\n",
    "    def __init__(self, url):\n",
    "        self.url = url\n",
    "        response = requests.get(url, headers=headers)\n",
    "        self.body = response.content\n",
    "        soup = BeautifulSoup(self.body, 'html.parser')\n",
    "        self.title = soup.title.string if soup.title else \"No title found\"\n",
    "        if soup.body:\n",
    "            for irrelevant in soup.body([\"script\", \"style\", \"img\", \"input\"]):\n",
    "                irrelevant.decompose()\n",
    "            self.text = soup.body.get_text(separator=\"\\n\", strip=True)\n",
    "        else:\n",
    "            self.text = \"\"\n",
    "        links = [link.get('href') for link in soup.find_all('a')]\n",
    "        self.links = [link for link in links if link]\n",
    "\n",
    "    def get_contents(self):\n",
    "        return f\"Webpage Title:\\n{self.title}\\nWebpage Contents:\\n{self.text}\\n\\n\""
   ]
  },
  {
   "cell_type": "code",
   "execution_count": 61,
   "id": "e30d8128-933b-44cc-81c8-ab4c9d86589a",
   "metadata": {
    "scrolled": true
   },
   "outputs": [
    {
     "data": {
      "text/plain": [
       "['https://www.amazon.com/gp/help/customer/display.html/ref=footer_cou?ie=UTF8&nodeId=508088',\n",
       " 'https://www.amazon.com/gp/help/customer/display.html/ref=footer_privacy?ie=UTF8&nodeId=468496']"
      ]
     },
     "execution_count": 61,
     "metadata": {},
     "output_type": "execute_result"
    }
   ],
   "source": [
    "ed = Website(\"https://amazon.com\")\n",
    "ed.links\n",
    "# print(ed.get_contents())"
   ]
  },
  {
   "cell_type": "markdown",
   "id": "1771af9c-717a-4fca-bbbe-8a95893312c3",
   "metadata": {},
   "source": [
    "## First step: Have GPT-4o-mini figure out which links are relevant\n",
    "\n",
    "### Use a call to gpt-4o-mini to read the links on a webpage, and respond in structured JSON.  \n",
    "It should decide which links are relevant, and replace relative links such as \"/about\" with \"https://company.com/about\".  \n",
    "We will use \"one shot prompting\" in which we provide an example of how it should respond in the prompt.\n",
    "\n",
    "This is an excellent use case for an LLM, because it requires nuanced understanding. Imagine trying to code this without LLMs by parsing and analyzing the webpage - it would be very hard!\n",
    "\n",
    "Sidenote: there is a more advanced technique called \"Structured Outputs\" in which we require the model to respond according to a spec. We cover this technique in Week 8 during our autonomous Agentic AI project."
   ]
  },
  {
   "cell_type": "code",
   "execution_count": 62,
   "id": "6957b079-0d96-45f7-a26a-3487510e9b35",
   "metadata": {},
   "outputs": [],
   "source": [
    "link_system_prompt = \"You are provided with a list of links found on a webpage. \\\n",
    "You are able to decide which of the links would be most relevant to include in a brochure about the company, \\\n",
    "such as links to an About page, or a Company page, or Careers/Jobs pages.\\n\"\n",
    "link_system_prompt += \"You should respond in JSON as in this example:\"\n",
    "link_system_prompt += \"\"\"\n",
    "{\n",
    "    \"links\": [\n",
    "        {\"type\": \"about page\", \"url\": \"https://full.url/goes/here/about\"},\n",
    "        {\"type\": \"careers page\": \"url\": \"https://another.full.url/careers\"}\n",
    "    ]\n",
    "}\n",
    "\"\"\""
   ]
  },
  {
   "cell_type": "code",
   "execution_count": 63,
   "id": "b97e4068-97ed-4120-beae-c42105e4d59a",
   "metadata": {},
   "outputs": [
    {
     "name": "stdout",
     "output_type": "stream",
     "text": [
      "You are provided with a list of links found on a webpage. You are able to decide which of the links would be most relevant to include in a brochure about the company, such as links to an About page, or a Company page, or Careers/Jobs pages.\n",
      "You should respond in JSON as in this example:\n",
      "{\n",
      "    \"links\": [\n",
      "        {\"type\": \"about page\", \"url\": \"https://full.url/goes/here/about\"},\n",
      "        {\"type\": \"careers page\": \"url\": \"https://another.full.url/careers\"}\n",
      "    ]\n",
      "}\n",
      "\n"
     ]
    }
   ],
   "source": [
    "print(link_system_prompt)"
   ]
  },
  {
   "cell_type": "code",
   "execution_count": 65,
   "id": "8e1f601b-2eaf-499d-b6b8-c99050c9d6b3",
   "metadata": {},
   "outputs": [],
   "source": [
    "def get_links_user_prompt(website):\n",
    "    user_prompt = f\"Here is the list of links on the website of {website.url} - \"\n",
    "    user_prompt += \"please decide which of these are relevant web links for a brochure about the company, respond with the full https URL in JSON format. \\\n",
    "Do not include Terms of Service, Privacy, email links.\\n\"\n",
    "    user_prompt += \"Links (some might be relative links):\\n\"\n",
    "    user_prompt += \"\\n\".join(website.links)\n",
    "    return user_prompt"
   ]
  },
  {
   "cell_type": "code",
   "execution_count": 66,
   "id": "6bcbfa78-6395-4685-b92c-22d592050fd7",
   "metadata": {},
   "outputs": [
    {
     "name": "stdout",
     "output_type": "stream",
     "text": [
      "Here is the list of links on the website of https://amazon.com - please decide which of these are relevant web links for a brochure about the company, respond with the full https URL in JSON format. Do not include Terms of Service, Privacy, email links.\n",
      "Links (some might be relative links):\n",
      "https://www.amazon.com/gp/help/customer/display.html/ref=footer_cou?ie=UTF8&nodeId=508088\n",
      "https://www.amazon.com/gp/help/customer/display.html/ref=footer_privacy?ie=UTF8&nodeId=468496\n"
     ]
    }
   ],
   "source": [
    "print(get_links_user_prompt(ed))"
   ]
  },
  {
   "cell_type": "code",
   "execution_count": 67,
   "id": "a29aca19-ca13-471c-a4b4-5abbfa813f69",
   "metadata": {},
   "outputs": [],
   "source": [
    "def get_links(url):\n",
    "    website = Website(url)\n",
    "    MODEL = \"llama3.2\"\n",
    "    openai = OpenAI(base_url=\"http://localhost:11434/v1\", api_key=\"ollama\")\n",
    "    response = openai.chat.completions.create(\n",
    "        model=MODEL,\n",
    "        messages=[\n",
    "            {\"role\": \"system\", \"content\": link_system_prompt},\n",
    "            {\"role\": \"user\", \"content\": get_links_user_prompt(website)}\n",
    "      ],\n",
    "        response_format={\"type\": \"json_object\"}\n",
    "    )\n",
    "    result = response.choices[0].message.content\n",
    "    return json.loads(result)"
   ]
  },
  {
   "cell_type": "code",
   "execution_count": 68,
   "id": "74a827a0-2782-4ae5-b210-4a242a8b4cc2",
   "metadata": {},
   "outputs": [
    {
     "data": {
      "text/plain": [
       "['https://www.amazon.com/gp/help/customer/display.html/ref=footer_cou?ie=UTF8&nodeId=508088',\n",
       " 'https://www.amazon.com/gp/help/customer/display.html/ref=footer_privacy?ie=UTF8&nodeId=468496']"
      ]
     },
     "execution_count": 68,
     "metadata": {},
     "output_type": "execute_result"
    }
   ],
   "source": [
    "# Anthropic has made their site harder to scrape, so I'm using HuggingFace..\n",
    "\n",
    "huggingface = Website(\"https://amazon.com\")\n",
    "huggingface.links"
   ]
  },
  {
   "cell_type": "markdown",
   "id": "0d74128e-dfb6-47ec-9549-288b621c838c",
   "metadata": {},
   "source": [
    "## Second step: make the brochure!\n",
    "\n",
    "Assemble all the details into another prompt to GPT4-o"
   ]
  },
  {
   "cell_type": "code",
   "execution_count": null,
   "id": "85a5b6e2-e7ef-44a9-bc7f-59ede71037b5",
   "metadata": {},
   "outputs": [],
   "source": [
    "def get_all_details(url):\n",
    "    result = \"Landing page:\\n\"\n",
    "    result += Website(url).get_contents()\n",
    "    links = get_links(url)\n",
    "    print(\"Found links:\", links)}\n",
    "    for link in links[\"links\"]:\n",
    "        result += f\"\\n\\n{link['type']}\\n\"\n",
    "        result += Website(link[\"url\"]).get_contents()\n",
    "    return result"
   ]
  },
  {
   "cell_type": "code",
   "execution_count": null,
   "id": "5099bd14-076d-4745-baf3-dac08d8e5ab2",
   "metadata": {},
   "outputs": [],
   "source": [
    "print(get_all_details(\"https://amazon.com\"))"
   ]
  },
  {
   "cell_type": "code",
   "execution_count": null,
   "id": "9b863a55-f86c-4e3f-8a79-94e24c1a8cf2",
   "metadata": {},
   "outputs": [],
   "source": [
    "system_prompt = \"You are an assistant that analyzes the contents of several relevant pages from a company website \\\n",
    "and creates a short brochure about the company for prospective customers, investors and recruits. Respond in markdown.\\\n",
    "Include details of company culture, customers and careers/jobs if you have the information.\"\n",
    "\n",
    "# Or uncomment the lines below for a more humorous brochure - this demonstrates how easy it is to incorporate 'tone':\n",
    "\n",
    "# system_prompt = \"You are an assistant that analyzes the contents of several relevant pages from a company website \\\n",
    "# and creates a short humorous, entertaining, jokey brochure about the company for prospective customers, investors and recruits. Respond in markdown.\\\n",
    "# Include details of company culture, customers and careers/jobs if you have the information.\"\n"
   ]
  },
  {
   "cell_type": "code",
   "execution_count": 71,
   "id": "6ab83d92-d36b-4ce0-8bcc-5bb4c2f8ff23",
   "metadata": {},
   "outputs": [],
   "source": [
    "def get_brochure_user_prompt(company_name, url):\n",
    "    user_prompt = f\"You are looking at a company called: {company_name}\\n\"\n",
    "    user_prompt += f\"Here are the contents of its landing page and other relevant pages; use this information to build a short brochure of the company in markdown.\\n\"\n",
    "    user_prompt += get_all_details(url)\n",
    "    user_prompt = user_prompt[:5_000] # Truncate if more than 5,000 characters\n",
    "    return user_prompt"
   ]
  },
  {
   "cell_type": "code",
   "execution_count": 72,
   "id": "cd909e0b-1312-4ce2-a553-821e795d7572",
   "metadata": {},
   "outputs": [
    {
     "name": "stdout",
     "output_type": "stream",
     "text": [
      "Found links: {'links': [{'type': 'contact us page', 'url': 'https://www.amazon.com/service-customer-service'}, {'type': 'employees/careers page', 'url': 'https://www.amazon.jobs/'}]}\n"
     ]
    },
    {
     "data": {
      "text/plain": [
       "\"You are looking at a company called: Amazon\\nHere are the contents of its landing page and other relevant pages; use this information to build a short brochure of the company in markdown.\\nLanding page:\\nWebpage Title:\\nAmazon.com\\nWebpage Contents:\\nEnter the characters you see below\\nSorry, we just need to make sure you're not a robot. For best results, please make sure your browser is accepting cookies.\\nType the characters you see in this image:\\nTry different image\\nContinue shopping\\nConditions of Use\\nPrivacy Policy\\n© 1996-2014, Amazon.com, Inc. or its affiliates\\n\\n\\n\\ncontact us page\\nWebpage Title:\\nAmazon.com Page Not Found\\nWebpage Contents:\\n\\n\\n\\n\\nemployees/careers page\\nWebpage Title:\\nAmazon.jobs: Help us build Earth’s most customer-centric company.\\nWebpage Contents:\\nSkip to main content\\nHome\\nTeams\\nLocations\\nJob categories\\nMy career\\nMy applications\\nMy profile\\nAccount security\\nSettings\\nSign out\\nResources\\nDisability accommodations\\nBenefits\\nInclusive experiences\\nInterview tips\\nLeadership principles\\nWorking at Amazon\\nFAQ\\n×\\nFind jobs\\nExplore opportunities\\nCome build the future with us\\nOur mission is to be Earth's most customer-centric company. This is what unites Amazonians across teams and geographies as we are all striving to delight our customers and make their lives easier, one innovative product, service, and idea at a time.\\nLearn about working at Amazon\\nJOIN US ON\\nFind Careers\\nJob Categories\\nTeams\\nLocations\\nUS and EU Military recruiting\\nWarehouse and Hourly Jobs\\nWorking At Amazon\\nCulture\\nBenefits\\nAmazon Newsletter\\nInclusive experiences\\nOur leadership principles\\nHelp\\nFAQ\\nInterview tips\\nReview application status\\nDisability accommodations\\nLegal disclosures and notices\\nAmazon is an equal opportunity employer and does not discriminate on the basis of protected veteran status, disability, or other legally protected status.\\nPrivacy and Data\\nImpressum\\n© 1996-2025, Amazon.com, Inc. or its affiliates\\n\\n\""
      ]
     },
     "execution_count": 72,
     "metadata": {},
     "output_type": "execute_result"
    }
   ],
   "source": [
    "get_brochure_user_prompt(\"Amazon\", \"https://amazon.com\")"
   ]
  },
  {
   "cell_type": "code",
   "execution_count": 73,
   "id": "e44de579-4a1a-4e6a-a510-20ea3e4b8d46",
   "metadata": {},
   "outputs": [],
   "source": [
    "def create_brochure(company_name, url):\n",
    "    response = openai.chat.completions.create(\n",
    "        model=MODEL,\n",
    "        messages=[\n",
    "            {\"role\": \"system\", \"content\": system_prompt},\n",
    "            {\"role\": \"user\", \"content\": get_brochure_user_prompt(company_name, url)}\n",
    "          ],\n",
    "    )\n",
    "    result = response.choices[0].message.content\n",
    "    display(Markdown(result))"
   ]
  },
  {
   "cell_type": "code",
   "execution_count": 74,
   "id": "e093444a-9407-42ae-924a-145730591a39",
   "metadata": {},
   "outputs": [
    {
     "name": "stdout",
     "output_type": "stream",
     "text": [
      "Found links: {'links': [{'type': 'careers page', 'url': 'https://ats.amazon.com/ats/jobs/'}]}\n"
     ]
    },
    {
     "data": {
      "text/markdown": [
       "# Amazon Brochure\n",
       "\n",
       "[Cover Page: A logo of a smiley monkey with the Amazon logo]\n",
       "\n",
       "## Welcome to Amazon\n",
       "\n",
       "At Amazon, we're passionate about making it easier and more enjoyable for everyone to shop, live, and work. Our mission is to be Earth's most customer-centric company, where customers can find and discover anything they might want to buy online.\n",
       "\n",
       "### Company Culture\n",
       "\n",
       "We value our employees as much as our customers. We believe that diversity, inclusion, and respect are essential building blocks of a great team. We strive to create a workplace where everyone feels welcome and empowered to do their best work.\n",
       "\n",
       "At Amazon, you can find like-minded people who share your values and passions. Our company culture is built on three core principles:\n",
       "\n",
       "* **Customer Obsession**: We're dedicated to delivering the highest level of customer service.\n",
       "* **Owner's Mindset**: We think like entrepreneurs and owners, always looking for ways to improve and innovate.\n",
       "* **Invent and Simplify**: We strive to create a work environment that encourages creativity, collaboration, and simplicity.\n",
       "\n",
       "### Customers\n",
       "\n",
       "We're proud to serve millions of customers across the globe. At Amazon, we believe in providing convenient, fast, and reliable shipping options to meet our customers' needs.\n",
       "\n",
       "**Key Customer Services**\n",
       "\n",
       "* Free Same-Day Delivery on eligible items\n",
       "* Prime Membership benefits (including free two-day shipping, streaming of movies and TV shows, and music streaming)\n",
       "* Easy returns and exchanges\n",
       "\n",
       "### Careers at Amazon\n",
       "\n",
       "We're looking for talented individuals to join our team. Whether you're a software engineer, customer service representative, or delivery driver, you play a critical role in delivering exceptional experiences for our customers.\n",
       "\n",
       "**Benefits of Working at Amazon**\n",
       "\n",
       "* Competitive salaries and bonuses\n",
       "* Comprehensive benefits package (including health insurance, retirement savings plan, and flexible paid time off)\n",
       "* Opportunities for growth and career development\n",
       "* Collaborative and supportive work environment\n",
       "\n",
       "If you're passionate about making a difference through innovative technology, customer-centric service, or operational excellence, apply to join our team today!\n",
       "\n",
       "[Back Cover: A logo of the Amazon monkey with a bright future ahead]"
      ],
      "text/plain": [
       "<IPython.core.display.Markdown object>"
      ]
     },
     "metadata": {},
     "output_type": "display_data"
    }
   ],
   "source": [
    "create_brochure(\"Amazon\", \"https://amazon.com\")"
   ]
  },
  {
   "cell_type": "markdown",
   "id": "61eaaab7-0b47-4b29-82d4-75d474ad8d18",
   "metadata": {},
   "source": [
    "## Finally - a minor improvement\n",
    "\n",
    "With a small adjustment, we can change this so that the results stream back from OpenAI,\n",
    "with the familiar typewriter animation"
   ]
  },
  {
   "cell_type": "code",
   "execution_count": 85,
   "id": "51db0e49-f261-4137-aabe-92dd601f7725",
   "metadata": {},
   "outputs": [],
   "source": [
    "def stream_brochure(company_name, url):\n",
    "    stream = openai.chat.completions.create(\n",
    "        model=MODEL,\n",
    "        messages=[\n",
    "            {\"role\": \"system\", \"content\": system_prompt},\n",
    "            {\"role\": \"user\", \"content\": get_brochure_user_prompt(company_name, url)}\n",
    "          ],\n",
    "        stream=True\n",
    "    )\n",
    "    \n",
    "    response = \"\"\n",
    "    display_handle = display(Markdown(\"\"), display_id=True)\n",
    "    for chunk in stream:\n",
    "        response += chunk.choices[0].delta.content or ''\n",
    "        response = response.replace(\"```\",\"\").replace(\"markdown\", \"\")\n",
    "        update_display(Markdown(response), display_id=display_handle.display_id)"
   ]
  },
  {
   "cell_type": "code",
   "execution_count": 86,
   "id": "56bf0ae3-ee9d-4a72-9cd6-edcac67ceb6d",
   "metadata": {},
   "outputs": [
    {
     "name": "stdout",
     "output_type": "stream",
     "text": [
      "Found links: {'links': [{'type': 'about page', 'url': 'https://www.amazon.com/companyinformation'}, {'type': 'help center', 'url': 'https://www.amazon.com/gp/help/customer/display.html/ref=footer_cou?ie=UTF8&nodeId=508088'}, {'type': 'privacy policy', 'url': 'https://www.amazon.com/gp/help/customer/display.html/ref=footer_privacy?ie=UTF8&nodeId=468496'}]}\n"
     ]
    },
    {
     "data": {
      "text/markdown": [
       "**Welcome to Amazon Brochure**\n",
       "=====================================\n",
       "\n",
       "**Mission & Vision**\n",
       "-------------------\n",
       "\n",
       "Amazon is a pioneer in e-commerce, with a mission to be Earth's most customer-centric company, where customers can find and discover anything they might want to buy online. Our vision is to inspire and reward customers to unlock their full potential.\n",
       "\n",
       "**Company Culture**\n",
       "------------------\n",
       "\n",
       "* **Innovative Spirit**: We encourage creativity, experimentation, and learning.\n",
       "* **Customer Obsession**: We put our customers at the heart of everything we do.\n",
       "* **Strong Work Ethic**: We are committed to having a positive impact on our employees and our communities.\n",
       "* **Long-term Thinking**: We think about the future and make long-term commitments.\n",
       "\n",
       "**Customer Relationships**\n",
       "------------------------\n",
       "\n",
       "At Amazon, we pride ourselves on building strong relationships with our customers. With over 300 million active customers worldwide, you can find anything you need on our platform, from everyday essentials to rare and hard-to-find items. Our customer satisfaction ratings are among the highest in e-commerce, ensuring that your experience with us is always excellent.\n",
       "\n",
       "**Careers & Jobs**\n",
       "-----------------\n",
       "\n",
       "Join our team of innovators! At Amazon, we offer a wide range of exciting career opportunities, including:\n",
       "\n",
       "* **Software Engineers**: Help develop the technology that powers Amazon's platform.\n",
       "* **Customer Service Representatives**: Provide exceptional support to our customers.\n",
       "* **Operations Professionals**: Ensure the smooth operation of our logistics and delivery network.\n",
       "\n",
       "**Sustainability & Social Responsibility**\n",
       "----------------------------------------\n",
       "\n",
       "At Amazon, we are committed to a sustainable future for all. We have set ambitious sustainability goals, including:\n",
       "\n",
       "* **Renewable Energy**: 50% of our energy comes from renewable sources.\n",
       "* **Carbon Neutral**: Our operations are carbon neutral.\n",
       "\n",
       "**Get in Touch**\n",
       "-----------------\n",
       "\n",
       "Ready to shop with us or learn more about our company? Visit [www.amazon.com](http://www.amazon.com) today!\n",
       "\n",
       "**Contact Information**\n",
       "\n",
       "Address: Amazon HQ, 410 Terry Avenue North, Seattle, WA 98109-5210\n",
       "\n",
       "Phone: +1 (206) 622-2335\n",
       "\n",
       "Email: [customer.service@amazon.com](mailto/customer.service@amazon.com)\n",
       "\n",
       "Note: The provided pages do not contain any relevant information about the company's products or services. However, this brochure provides a brief overview of Amazon's mission, culture, customer relationships, career opportunities, sustainability initiatives, and contact information."
      ],
      "text/plain": [
       "<IPython.core.display.Markdown object>"
      ]
     },
     "metadata": {},
     "output_type": "display_data"
    }
   ],
   "source": [
    "stream_brochure(\"Amazon\", \"https://amazon.com\")"
   ]
  },
  {
   "cell_type": "code",
   "execution_count": null,
   "id": "fdb3f8d8-a3eb-41c8-b1aa-9f60686a653b",
   "metadata": {},
   "outputs": [],
   "source": [
    " \n",
    "\n",
    "stream_brochure(\"Amazon\",\"https://amazon.com\")"
   ]
  }
 ],
 "metadata": {
  "kernelspec": {
   "display_name": "Python [conda env:base] *",
   "language": "python",
   "name": "conda-base-py"
  },
  "language_info": {
   "codemirror_mode": {
    "name": "ipython",
    "version": 3
   },
   "file_extension": ".py",
   "mimetype": "text/x-python",
   "name": "python",
   "nbconvert_exporter": "python",
   "pygments_lexer": "ipython3",
   "version": "3.12.7"
  }
 },
 "nbformat": 4,
 "nbformat_minor": 5
}
